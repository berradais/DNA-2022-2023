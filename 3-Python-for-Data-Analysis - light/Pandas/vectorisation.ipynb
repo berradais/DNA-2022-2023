{
 "cells": [
  {
   "cell_type": "markdown",
   "id": "0a08e0d1-8ca4-445a-a93a-86fb2faaea65",
   "metadata": {},
   "source": [
    "## Recap: NumPy Indexing and Selection\n",
    "\n",
    "`ndarrays` can be indexed using the standard Python `x[obj]` syntax, where x is the array and obj the selection. There are three kinds of indexing available: \n",
    "   - field access, \n",
    "   - basic slicing, \n",
    "   - advanced indexing. \n",
    " \n",
    "Which one occurs depends on obj.\n",
    "   - https://docs.python.org/release/2.3.5/whatsnew/section-slices.html\n",
    "   - https://realpython.com/pandas-settingwithcopywarning/s\n",
    "\n",
    "\n",
    "`Referencing narrays follows the principles: Right Assignment ( = xxx)`\n",
    "- `Slicing arrays returns views, so the initial narray can be modified`\n",
    "- `Using index and mask arrays returns copies.`\n",
    "\n",
    "`Referencing narrays follows the principles: Left assignment (xxx = )`\n",
    "- `Slicing, index and mask arrays returns views, so the initial narray can be modified`\n",
    "\n",
    "\n",
    "\n"
   ]
  },
  {
   "cell_type": "markdown",
   "id": "45cb03bc-00a9-495f-b449-a9f82220f0fe",
   "metadata": {},
   "source": [
    "## Vectorization\n",
    "    - https://numpy.org/doc/stable/glossary.html#term-vectorization\n",
    "    \n",
    "- Most of the application has to deal with a large number of datasets. Hence, a non-computationally-optimal function can become a huge bottleneck in your algorithm and can take result in a model that takes ages to run. To make sure that the code is computationally efficient, we will use vectorization.\n",
    "\n",
    "\n",
    "Vectorization describes the absence of any explicit looping, indexing, etc., in the code: these things are taking place, of course, just “behind the scenes” in optimized, pre-compiled C code. \n",
    "\n",
    "Vectorized code has many advantages, among which are:\n",
    "- vectorized code is more concise and easier to read\n",
    "- fewer lines of code generally means fewer bugs\n",
    "- the code more closely resembles standard mathematical notation (making it easier, typically, to correctly code mathematical constructs)\n",
    "- vectorization results in more “Pythonic” code. Without vectorization, our code would be littered with inefficient and difficult to read for loops.\n",
    "\n",
    "Various operations are being performed over vector such as: \n",
    "- dot product of vectors which is also known as scalar product as it produces single output, \n",
    "- outer products which results in square matrix of dimension equal to length X length of the vectors, \n",
    "- element wise multiplication which products the element of same indexes and dimension of the matrix remain unchanged. \n",
    "    \n",
    "Instead of executing operations on individual array items, one at a time, your code is much more efficient if you try to stick to array operations. This is called *vectorization*. This way, you can benefit from NumPy's many optimizations."
   ]
  },
  {
   "cell_type": "code",
   "execution_count": 4,
   "id": "afb636a9-53f0-4b85-bc6f-9e441b78e8b3",
   "metadata": {},
   "outputs": [
    {
     "name": "stdout",
     "output_type": "stream",
     "text": [
      "dot_product = 833323333350000.0\n",
      "Computation time = 31.25ms\n"
     ]
    }
   ],
   "source": [
    "# Dot product \n",
    "import time \n",
    "import numpy as np\n",
    "import array \n",
    "\n",
    "# 8 bytes size int \n",
    "a = array.array('q') \n",
    "for i in range(100000): \n",
    "    a.append(i); \n",
    "\n",
    "b = array.array('q') \n",
    "for i in range(100000, 200000): \n",
    "    b.append(i) \n",
    "\n",
    "# classic dot product of vectors implementation \n",
    "tic = time.process_time() \n",
    "dot = 0.0; \n",
    "\n",
    "for i in range(len(a)): \n",
    "    dot += a[i] * b[i] \n",
    "\n",
    "toc = time.process_time() \n",
    "\n",
    "print(\"dot_product = \"+ str(dot)); \n",
    "print(\"Computation time = \" + str(1000*(toc - tic )) + \"ms\") "
   ]
  },
  {
   "cell_type": "code",
   "execution_count": 5,
   "id": "3e5482f2-416d-4fca-a218-f1ea900c90e1",
   "metadata": {},
   "outputs": [
    {
     "name": "stdout",
     "output_type": "stream",
     "text": [
      "\n",
      "n_dot_product = 833323333350000\n",
      "Computation time = 0.0ms\n"
     ]
    }
   ],
   "source": [
    "n_tic = time.process_time() \n",
    "n_dot_product = np.dot(a, b) \n",
    "n_toc = time.process_time() \n",
    "\n",
    "print(\"\\nn_dot_product = \"+str(n_dot_product)) \n",
    "print(\"Computation time = \"+str(1000*(n_toc - n_tic ))+\"ms\") "
   ]
  },
  {
   "cell_type": "markdown",
   "id": "058cc603-2f68-4e50-90d5-c46bb73c8d0b",
   "metadata": {},
   "source": [
    "## Broadcasting\n",
    "    - https://numpy.org/doc/stable/user/basics.broadcasting.html\n",
    "    - https://docs.scipy.org/doc/numpy-1.13.0/user/basics.broadcasting.html\n",
    "    - https://numpy.org/doc/stable/user/basics.broadcasting.html#module-numpy.doc.broadcasting\n",
    "    \n",
    "    \n",
    "The term broadcasting refers to how numpy treats arrays with different Dimension during arithmetic operations which lead to certain constraints, the smaller array is broadcast across the larger array so that they have compatible shapes.\n",
    "     \n",
    "    Broadcasting provides a means of vectorizing array operations so that looping occurs in C instead of Python as we know that Numpy implemented in C. It does this without making needless copies of data and which leads to efficient algorithm implementations. There are cases where broadcasting is a bad idea because it leads to inefficient use of memory that slow down the computation.\n",
    "    \n",
    "    \n",
    "NumPy operations are usually done on pairs of arrays on an element-by-element basis. In the simplest case, the two arrays must have exactly the same shape, as in the following example:"
   ]
  },
  {
   "cell_type": "code",
   "execution_count": 6,
   "id": "0d1457d1-c3db-48ab-beb2-920f1cb1cb8d",
   "metadata": {},
   "outputs": [
    {
     "data": {
      "text/plain": [
       "array([2., 4., 6.])"
      ]
     },
     "execution_count": 6,
     "metadata": {},
     "output_type": "execute_result"
    }
   ],
   "source": [
    "a = np.array([1.0, 2.0, 3.0])\n",
    "b = np.array([2.0, 2.0, 2.0])\n",
    "a * b"
   ]
  },
  {
   "cell_type": "markdown",
   "id": "abc6c89d-3db7-48bb-9140-272b78f2d188",
   "metadata": {},
   "source": [
    "NumPy’s broadcasting rule relaxes this constraint when the arrays’ shapes meet certain constraints. The simplest broadcasting example occurs when an array and a scalar value are combined in an operation:"
   ]
  },
  {
   "cell_type": "code",
   "execution_count": 8,
   "id": "2b1af52b-0316-4f8b-87f0-a16a912f6062",
   "metadata": {},
   "outputs": [
    {
     "data": {
      "text/plain": [
       "array([2., 4., 6.])"
      ]
     },
     "execution_count": 8,
     "metadata": {},
     "output_type": "execute_result"
    }
   ],
   "source": [
    "a = np.array([1.0, 2.0, 3.0])\n",
    "b = 2.0\n",
    "a * b"
   ]
  },
  {
   "cell_type": "markdown",
   "id": "f8756d0b-b922-47f5-9423-f0efd638cd3a",
   "metadata": {},
   "source": [
    "The result is equivalent to the previous example where b was an array. We can think of the scalar b being stretched during the arithmetic operation into an array with the same shape as a. The new elements in b are simply copies of the original scalar. The stretching analogy is only conceptual. NumPy is smart enough to use the original scalar value without actually making copies so that broadcasting operations are as memory and computationally efficient as possible.\n",
    "\n",
    "\n",
    "When operating on two arrays, NumPy compares their shapes element-wise. It starts with the trailing dimensions and works its way forward. Two dimensions are compatible when\n",
    "\n",
    "1. they are equal, or\n",
    "2. one of them is 1\n",
    "\n",
    "If these conditions are not met, a ValueError: operands could not be broadcast together exception is thrown, indicating that the arrays have incompatible shapes. The size of the resulting array is the size that is not 1 along each axis of the inputs.\n",
    "\n",
    "Arrays do not need to have the same number of dimensions. For example, if you have a 256x256x3 array of RGB values, and you want to scale each color in the image by a different value, you can multiply the image by a one-dimensional array with 3 values. Lining up the sizes of the trailing axes of these arrays according to the broadcast rules, shows that they are compatible:\n",
    "`Image  (3d array): 256 x 256 x 3`\n",
    "\n",
    "`Scale  (1d array):             3`\n",
    "\n",
    "`Result (3d array): 256 x 256 x 3`\n",
    "\n",
    "When either of the dimensions compared is one, the other is used. In other words, dimensions with size 1 are stretched or “copied” to match the other.\n",
    "\n",
    "In the following example, both the A and B arrays have axes with length one that are expanded to a larger size during the broadcast operation:\n",
    "\n",
    "----------------------------------\n",
    "\n",
    "`A      (4d array):  8 x 1 x 6 x 1`\n",
    "\n",
    "`B      (3d array):      7 x 1 x 5`\n",
    "\n",
    "`Result (4d array):  8 x 7 x 6 x 5`\n",
    "\n",
    "----------------------------------\n",
    "\n",
    "`A      (2d array):  5 x 4`\n",
    "\n",
    "`B      (1d array):      1`\n",
    "\n",
    "`Result (2d array):  5 x 4`\n",
    "\n",
    "----------------------------------\n",
    "\n",
    "`A      (2d array):  5 x 4`\n",
    "\n",
    "`B      (1d array):      4`\n",
    "\n",
    "`Result (2d array):  5 x 4`\n",
    "\n",
    "----------------------------------\n",
    "\n",
    "`A      (3d array):  15 x 3 x 5`\n",
    "\n",
    "`B      (3d array):  15 x 1 x 5`\n",
    "\n",
    "`Result (3d array):  15 x 3 x 5`\n",
    "\n",
    "----------------------------------\n",
    "\n",
    "`A      (3d array):  15 x 3 x 5`\n",
    "\n",
    "`B      (2d array):       3 x 5`\n",
    "\n",
    "`Result (3d array):  15 x 3 x 5`\n",
    "\n",
    "----------------------------------\n",
    "\n",
    "`A      (3d array):  15 x 3 x 5`\n",
    "\n",
    "`B      (2d array):       3 x 1`\n",
    "\n",
    "`Result (3d array):  15 x 3 x 5`\n",
    "\n",
    "----------------------------------\n",
    "\n",
    "`A      (1d array):  3`\n",
    "\n",
    "`B      (1d array):  4 # trailing dimensions do not match`\n",
    "\n",
    "----------------------------------\n",
    "\n",
    "`A      (2d array):      2 x 1`\n",
    "\n",
    "`B      (3d array):  8 x 4 x 3 # second from last dimensions mismatched`\n"
   ]
  },
  {
   "cell_type": "code",
   "execution_count": 2,
   "id": "fd385a73-08f5-4ef3-9fac-93af5c3ea511",
   "metadata": {},
   "outputs": [],
   "source": [
    "import numpy as np"
   ]
  },
  {
   "cell_type": "code",
   "execution_count": 3,
   "id": "58cb2142-1a69-4838-95d2-2cc5e45b642c",
   "metadata": {},
   "outputs": [
    {
     "name": "stdout",
     "output_type": "stream",
     "text": [
      "x (4,)\n",
      "y (5,)\n"
     ]
    },
    {
     "ename": "ValueError",
     "evalue": "operands could not be broadcast together with shapes (4,) (5,) ",
     "output_type": "error",
     "traceback": [
      "\u001b[1;31m---------------------------------------------------------------------------\u001b[0m",
      "\u001b[1;31mValueError\u001b[0m                                Traceback (most recent call last)",
      "Cell \u001b[1;32mIn [3], line 10\u001b[0m\n\u001b[0;32m      6\u001b[0m \u001b[38;5;28mprint\u001b[39m(\u001b[38;5;124m'\u001b[39m\u001b[38;5;124mx\u001b[39m\u001b[38;5;124m'\u001b[39m, x\u001b[38;5;241m.\u001b[39mshape)\n\u001b[0;32m      8\u001b[0m \u001b[38;5;28mprint\u001b[39m(\u001b[38;5;124m'\u001b[39m\u001b[38;5;124my\u001b[39m\u001b[38;5;124m'\u001b[39m, y\u001b[38;5;241m.\u001b[39mshape)\n\u001b[1;32m---> 10\u001b[0m \u001b[38;5;28mprint\u001b[39m(\u001b[38;5;124m'\u001b[39m\u001b[38;5;124mx+y\u001b[39m\u001b[38;5;124m'\u001b[39m, \u001b[43mx\u001b[49m\u001b[43m \u001b[49m\u001b[38;5;241;43m+\u001b[39;49m\u001b[43m \u001b[49m\u001b[43my\u001b[49m)\n",
      "\u001b[1;31mValueError\u001b[0m: operands could not be broadcast together with shapes (4,) (5,) "
     ]
    }
   ],
   "source": [
    "x = np.arange(4)\n",
    "xx = x.reshape(4,1)\n",
    "y = np.ones(5)\n",
    "z = np.ones((3,4))\n",
    "\n",
    "print('x', x.shape)\n",
    "\n",
    "print('y', y.shape)\n",
    "\n",
    "print('x+y', x + y)"
   ]
  },
  {
   "cell_type": "code",
   "execution_count": null,
   "id": "f117826f-8b37-4089-8503-e2b1e239ae5e",
   "metadata": {},
   "outputs": [],
   "source": []
  }
 ],
 "metadata": {
  "kernelspec": {
   "display_name": "Python 3 (ipykernel)",
   "language": "python",
   "name": "python3"
  },
  "language_info": {
   "codemirror_mode": {
    "name": "ipython",
    "version": 3
   },
   "file_extension": ".py",
   "mimetype": "text/x-python",
   "name": "python",
   "nbconvert_exporter": "python",
   "pygments_lexer": "ipython3",
   "version": "3.9.15"
  }
 },
 "nbformat": 4,
 "nbformat_minor": 5
}
