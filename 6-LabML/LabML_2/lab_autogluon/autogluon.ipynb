{
 "cells": [
  {
   "cell_type": "markdown",
   "metadata": {},
   "source": [
    "# AutoML and AutoDL :\n",
    "\n",
    "\n",
    "The sensitivity of machine learning to hyper-parameters and model architecture has led to the advent of AutoML libraries. The two key components in AutoML: the search space and search algorithm.\n",
    "\n",
    "- Network Architecture Search (NAS)\n",
    "- HyperParameter Optimization (HPO)\n",
    "\n",
    "More details are available at https://github.com/D-X-Y/Awesome-AutoDL\n",
    "\n",
    "- Automated Machine Learning (AutoML) is a promising paradigm for tackling this difficulty. In\n",
    "AutoML, selecting architectures and hyper-parameters is formulated as a search problem, where a\n",
    "search space is defined to represent all possible choices and a search algorithm is used to find the best choices. \n",
    "\n",
    "- For hyper-parameter search, the search space would specify the range of values to try.\n",
    "For architecture search, the search space would specify the architectural configurations to try. The\n",
    "search space plays a critical role in the success of neural architecture search (NAS), and can be\n",
    "significantly different from one application to another. In addition, there are also many different\n",
    "search algorithms, such as random search, Bayesian optimization, RL-based methods, evolutionary methods, gradient-based methods and neural predictors. \n",
    "\n",
    "- This proliferation of search spaces and search algorithms in AutoML makes it difficult to program with\n",
    "existing software libraries. In particular, a common problem of current libraries is that search spaces\n",
    "and search algorithms are tightly coupled, making it hard to modify search space or search algorithm\n",
    "alone. A practical scenario that arises is the need to upgrade a search algorithm while keeping the rest\n",
    "of the infrastructure the same.\n",
    "\n",
    "- Some formulate AutoML as a problem of jointly optimizing architectures and hyper-parameters. Others focus on providing interfaces for black-box optimization. In particular, Google’s Vizier library provides tools for optimizing a user-specified search space using black-box algorithms, but makes the end user responsible for translating a point in the search space into a user program. DeepArchitect proposes a language to create a search space as a program that connects user components. Keras-tuner employs a different way to annotate a model into a search space, though this annotation is limited to a list of supported components. Optuna \n",
    "embraces eager evaluation of tunable parameters, making it easy to declare a search space on the go. Meanwhile, efficient NAS algorithms brought new challenges to AutoML frameworks, which require coupling between the controller and child program. AutoGluon and NNI partially solve this problem by building predefined modules that work in both general search mode and weight-sharing mode, however, supporting different efficient NAS algorithms are still non-trivial. Among the existing AutoML systems we are aware of, complex search flows are less explored. Compared to existing systems, PyGlove employs a mutable programming model to solve these problems, making AutoML easily accessible to preexisting ML programs. It also accommodates the dynamic interactions among the child programs, search spaces, search algorithms, and search\n",
    "flows to provide the flexibility needed for future AutoML research.\n"
   ]
  },
  {
   "cell_type": "code",
   "execution_count": null,
   "metadata": {
    "colab": {
     "base_uri": "https://localhost:8080/"
    },
    "executionInfo": {
     "elapsed": 4741,
     "status": "ok",
     "timestamp": 1667762455223,
     "user": {
      "displayName": "Dar Taliba Fes",
      "userId": "01240834084482997897"
     },
     "user_tz": -60
    },
    "id": "YTXJraCvYmtc",
    "outputId": "26afe62c-fed7-45c9-9ac5-f7e84282b66e"
   },
   "outputs": [],
   "source": [
    "# You should have these package on your environment \n",
    "\n",
    "# !pip install jedi\n",
    "# !pip install -U pip\n",
    "# python.exe -m pip install -U pip\n",
    "# conda install -c conda-forge pycocotools\n",
    "# !pip install -U setuptools wheel\n",
    "# conda install Cpython"
   ]
  },
  {
   "cell_type": "markdown",
   "metadata": {},
   "source": [
    "## For the installation please refer to: \n",
    "### https://auto.gluon.ai/dev/install.html"
   ]
  },
  {
   "cell_type": "markdown",
   "metadata": {},
   "source": [
    "## For the quick run, please refer to: \n",
    "### https://auto.gluon.ai/dev/tutorials/tabular_prediction/tabular-quickstart.html\n"
   ]
  },
  {
   "cell_type": "code",
   "execution_count": null,
   "metadata": {
    "colab": {
     "base_uri": "https://localhost:8080/"
    },
    "executionInfo": {
     "elapsed": 3418,
     "status": "ok",
     "timestamp": 1667762655184,
     "user": {
      "displayName": "Dar Taliba Fes",
      "userId": "01240834084482997897"
     },
     "user_tz": -60
    },
    "id": "QgJNQT-CY2x8",
    "outputId": "2b9a4695-60d5-41aa-b0f2-d89b6141344c"
   },
   "outputs": [],
   "source": [
    "!pip3 install torch==1.12+cpu torchvision==0.13.0+cpu torchtext==0.13.0 -f https://download.pytorch.org/whl/cpu/torch_stable.html"
   ]
  },
  {
   "cell_type": "code",
   "execution_count": null,
   "metadata": {
    "colab": {
     "base_uri": "https://localhost:8080/"
    },
    "executionInfo": {
     "elapsed": 88074,
     "status": "ok",
     "timestamp": 1667762755535,
     "user": {
      "displayName": "Dar Taliba Fes",
      "userId": "01240834084482997897"
     },
     "user_tz": -60
    },
    "id": "0bJHWfJCZWdJ",
    "outputId": "1f1cf880-f14d-483e-b9e2-7a222bcd10da"
   },
   "outputs": [],
   "source": [
    "!pip3 install autogluon"
   ]
  },
  {
   "cell_type": "code",
   "execution_count": null,
   "metadata": {
    "id": "I2-D7BSqY7r8"
   },
   "outputs": [],
   "source": [
    " !python3 -m pip install autogluon.tabular[all]"
   ]
  },
  {
   "cell_type": "code",
   "execution_count": null,
   "metadata": {
    "executionInfo": {
     "elapsed": 2745,
     "status": "ok",
     "timestamp": 1667763047998,
     "user": {
      "displayName": "Dar Taliba Fes",
      "userId": "01240834084482997897"
     },
     "user_tz": -60
    },
    "id": "g1XUtz4IahVv"
   },
   "outputs": [],
   "source": [
    "from autogluon.tabular import TabularDataset, TabularPredictor"
   ]
  },
  {
   "cell_type": "code",
   "execution_count": null,
   "metadata": {
    "colab": {
     "base_uri": "https://localhost:8080/"
    },
    "executionInfo": {
     "elapsed": 4,
     "status": "ok",
     "timestamp": 1667764986119,
     "user": {
      "displayName": "Dar Taliba Fes",
      "userId": "01240834084482997897"
     },
     "user_tz": -60
    },
    "id": "K6SKas6QbIFP",
    "outputId": "7a59191e-6ecc-423d-ee12-7207b175eec4"
   },
   "outputs": [],
   "source": [
    "train_data = TabularDataset('./sample_data/california_housing_train.csv')\n",
    "train_data.drop(columns=['longitude','latitude'],inplace=True)\n",
    "train_data.info()\n",
    "label = 'median_house_value'\n",
    "print(\"Summary of class variable: \\n\", train_data[label].describe())\n",
    "\n",
    "save_path = 'agModels-predictClass'  # specifies folder to store trained models\n",
    "predictor = TabularPredictor(label=label, path=save_path,eval_metric='mean_squared_error',problem_type='regression').fit(train_data)\n"
   ]
  },
  {
   "cell_type": "code",
   "execution_count": null,
   "metadata": {
    "id": "XZ2_wf2ycOgr"
   },
   "outputs": [],
   "source": [
    "subsample_size = 500  # subsample subset of data for faster demo, try setting this to much larger values\n",
    "train_data = train_data.sample(n=subsample_size, random_state=0)\n",
    "train_data.head()"
   ]
  },
  {
   "cell_type": "code",
   "execution_count": null,
   "metadata": {},
   "outputs": [],
   "source": [
    "import pandas as pd\n",
    "from autogluon.tabular import TabularDataset, TabularPredictor\n",
    "\n",
    "train = TabularDataset('../data/train.csv')\n",
    "test = TabularDataset('../data/test.csv')"
   ]
  },
  {
   "cell_type": "code",
   "execution_count": null,
   "metadata": {},
   "outputs": [],
   "source": [
    "train.inf()"
   ]
  },
  {
   "cell_type": "code",
   "execution_count": null,
   "metadata": {},
   "outputs": [],
   "source": [
    "train.describe()"
   ]
  },
  {
   "cell_type": "code",
   "execution_count": null,
   "metadata": {},
   "outputs": [],
   "source": [
    "label = 'Survived'\n",
    "print(\"Summary of class variable: \\n\", train[label].describe())"
   ]
  },
  {
   "cell_type": "code",
   "execution_count": null,
   "metadata": {},
   "outputs": [],
   "source": [
    "save_path = 'agModels-predictClass'  # specifies folder to store trained models\n",
    "predictor = TabularPredictor(label=label, path=save_path).fit(train)\n",
    "predictor.leaderboard(train, silent=True)"
   ]
  },
  {
   "cell_type": "code",
   "execution_count": null,
   "metadata": {
    "id": "oTKvoO8DdK3t"
   },
   "outputs": [],
   "source": [
    "time_limit = 60\n",
    "predictor = TabularPredictor(label=label).fit(train, time_limit=time_limit)\n",
    "\n",
    "submission = pd.read_csv('../data/gender_submission.csv')\n",
    "submission[label] = predictor.predict(test)\n",
    "submission.to_csv('submission.csv', index=False)\n",
    "submission.head()"
   ]
  }
 ],
 "metadata": {
  "accelerator": "GPU",
  "colab": {
   "authorship_tag": "ABX9TyOBed7koxrfzAhOrNk99oF4",
   "provenance": []
  },
  "gpuClass": "standard",
  "kernelspec": {
   "display_name": "Python 3.10.6 ('dna_2022_23')",
   "language": "python",
   "name": "python3"
  },
  "language_info": {
   "codemirror_mode": {
    "name": "ipython",
    "version": 3
   },
   "file_extension": ".py",
   "mimetype": "text/x-python",
   "name": "python",
   "nbconvert_exporter": "python",
   "pygments_lexer": "ipython3",
   "version": "3.10.6"
  },
  "vscode": {
   "interpreter": {
    "hash": "35d1c3afbf7dd3b9b2ba9a07c5b6be33bade25125d4bf637af8e552dd4df8fd1"
   }
  }
 },
 "nbformat": 4,
 "nbformat_minor": 4
}
